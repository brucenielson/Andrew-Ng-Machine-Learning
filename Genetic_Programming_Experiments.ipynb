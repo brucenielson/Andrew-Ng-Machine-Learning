{
  "nbformat": 4,
  "nbformat_minor": 0,
  "metadata": {
    "colab": {
      "name": "Genetic_Programming_Experiments.ipynb",
      "version": "0.3.2",
      "provenance": [],
      "collapsed_sections": [],
      "include_colab_link": true
    },
    "kernelspec": {
      "name": "python2",
      "display_name": "Python 2"
    }
  },
  "cells": [
    {
      "cell_type": "markdown",
      "metadata": {
        "id": "view-in-github",
        "colab_type": "text"
      },
      "source": [
        "<a href=\"https://colab.research.google.com/github/brucenielson/Andrew-Ng-Machine-Learning/blob/master/Genetic_Programming_Experiments.ipynb\" target=\"_parent\"><img src=\"https://colab.research.google.com/assets/colab-badge.svg\" alt=\"Open In Colab\"/></a>"
      ]
    },
    {
      "cell_type": "markdown",
      "metadata": {
        "id": "T8y96CCfwgZg",
        "colab_type": "text"
      },
      "source": [
        "This notebook contains the code I used for my inital Genetic Programming experiments. I used Toby Segaran's Genetic Programming code from his book [Collective Intelligence](https://www.amazon.com/gp/product/0596529325/ref=as_li_tl?ie=UTF8&camp=1789&creative=9325&creativeASIN=0596529325&linkCode=as2&tag=thelightrebor-20&linkId=6d3a6fa3b0f037c6a9fcee2b9e3355c8) as the starting point. ([Code found here](https://resources.oreilly.com/examples/9780596529321/tree/master/PCI_Code%20Folder/chapter11)) This experiment was primarily about playing with the hyper parameters of the code to get best results. However, I make a few improvements along the way to improve performance via various tricks I'll explain."
      ]
    },
    {
      "cell_type": "markdown",
      "metadata": {
        "id": "_SjmR21Jyusr",
        "colab_type": "text"
      },
      "source": [
        "First we will load some stats functions that are useful for calculating standard deviations. I used the code found [here](https://stackoverflow.com/questions/15389768/standard-deviation-of-a-list). However, it says it's just the code taken staight from Python's statistic module."
      ]
    },
    {
      "cell_type": "code",
      "metadata": {
        "id": "bXbiG0fuwR56",
        "colab_type": "code",
        "colab": {}
      },
      "source": [
        "# From: https://stackoverflow.com/questions/15389768/standard-deviation-of-a-list\n",
        "\n",
        "def mean(data):\n",
        "    \"\"\"Return the sample arithmetic mean of data.\"\"\"\n",
        "    n = len(data)\n",
        "    if n < 1:\n",
        "        raise ValueError('mean requires at least one data point')\n",
        "    return sum(data)/n # in Python 2 use sum(data)/float(n)\n",
        "\n",
        "def _ss(data):\n",
        "    \"\"\"Return sum of square deviations of sequence data.\"\"\"\n",
        "    c = mean(data)\n",
        "    ss = sum((x-c)**2 for x in data)\n",
        "    return ss\n",
        "\n",
        "def stddev(data, ddof=1):\n",
        "    \"\"\"Calculates the population standard deviation\n",
        "    if ddof=0; specify ddof=1 to compute the sample\n",
        "    standard deviation. (which I made default)\"\"\"\n",
        "    n = len(data)\n",
        "    if n < 2:\n",
        "        raise ValueError('variance requires at least two data points')\n",
        "    ss = _ss(data)\n",
        "    pvar = ss/(n-ddof)\n",
        "    return pvar**0.5"
      ],
      "execution_count": 0,
      "outputs": []
    },
    {
      "cell_type": "markdown",
      "metadata": {
        "id": "ovICSJEL0JSF",
        "colab_type": "text"
      },
      "source": [
        "Now load the function wrapper code and list of functions we'll be using in our genetic programming program trees: Add, Multiply, If, >, Subtract."
      ]
    },
    {
      "cell_type": "code",
      "metadata": {
        "id": "XzDi9di_02p5",
        "colab_type": "code",
        "colab": {}
      },
      "source": [
        "class fwrapper:\n",
        "    def __init__(self, function, params, name):\n",
        "        self.function = function\n",
        "        self.params = params\n",
        "        self.name = name\n",
        "\n",
        "\n",
        "# Functions with 2 parameters\n",
        "addw = fwrapper(lambda p: p[0] + p[1], 2, 'add')\n",
        "subw = fwrapper(lambda p: p[0] - p[1], 2, 'subtract')\n",
        "mulw = fwrapper(lambda p: p[0] * p[1], 2, 'multiply')\n",
        "# If and > Function\n",
        "def iffunc(l):\n",
        "    if l[0] > 0:\n",
        "        return l[1]\n",
        "    else:\n",
        "        return l[2]\n",
        "\n",
        "ifw = fwrapper(iffunc, 3, 'if')\n",
        "\n",
        "\n",
        "def isgreater(l):\n",
        "    if l[0] > l[1]:\n",
        "        return 1\n",
        "    else:\n",
        "        return 0\n",
        "gtw = fwrapper(isgreater, 2, 'isgreater')\n",
        "\n",
        "# List of possible functions\n",
        "flist = [addw, mulw, ifw, gtw, subw]\n"
      ],
      "execution_count": 0,
      "outputs": []
    },
    {
      "cell_type": "markdown",
      "metadata": {
        "id": "Q-ac6f1x2w6Y",
        "colab_type": "text"
      },
      "source": [
        "Required imports:"
      ]
    },
    {
      "cell_type": "code",
      "metadata": {
        "id": "rBRilfa62z6z",
        "colab_type": "code",
        "colab": {}
      },
      "source": [
        "from random import random, randint, choice\n",
        "from copy import deepcopy\n",
        "from math import log\n",
        "import datetime\n",
        "import operator"
      ],
      "execution_count": 0,
      "outputs": []
    },
    {
      "cell_type": "markdown",
      "metadata": {
        "id": "RLJWI04t24he",
        "colab_type": "text"
      },
      "source": [
        "Node classes: \"node\" is for functions, \"paramnode\" is for parameters, \"constnode\" is for constants"
      ]
    },
    {
      "cell_type": "code",
      "metadata": {
        "id": "WsIOeWZM3I_z",
        "colab_type": "code",
        "colab": {}
      },
      "source": [
        "class node:\n",
        "    treecounter = 0\n",
        "    def __init__(self, fw, children):\n",
        "        self.function = fw.function\n",
        "        self.name = fw.name\n",
        "        self.children = children\n",
        "        self.id = node.treecounter\n",
        "        self.lock = False\n",
        "        node.treecounter += 1 # Sets a unique id on each node for tracking\n",
        "\n",
        "\n",
        "    def evaluate(self, inp):\n",
        "        results = [n.evaluate(inp) for n in self.children]\n",
        "        return self.function(results)\n",
        "\n",
        "    def display(self, indent=0):\n",
        "        if self.lock:\n",
        "            add = \"*\"\n",
        "        else:\n",
        "            add = \"\"\n",
        "        print (' ' * indent) + self.name + add\n",
        "        for c in self.children:\n",
        "            c.display(indent + 1)\n",
        "\n",
        "\n",
        "class paramnode:\n",
        "    def __init__(self, idx):\n",
        "        self.idx = idx\n",
        "\n",
        "    def evaluate(self, inp):\n",
        "        return inp[self.idx]\n",
        "\n",
        "    def display(self, indent=0):\n",
        "        print '%sp%d' % (' ' * indent, self.idx)\n",
        "\n",
        "\n",
        "class constnode:\n",
        "    def __init__(self, value):\n",
        "        self.value = value\n",
        "\n",
        "    def evaluate(self, inp):\n",
        "        return self.value\n",
        "\n",
        "    def display(self, indent=0):\n",
        "        print '%s%d' % (' ' * indent, self.value)\n",
        "\n"
      ],
      "execution_count": 0,
      "outputs": []
    },
    {
      "cell_type": "markdown",
      "metadata": {
        "id": "xa4k-qmI3UB9",
        "colab_type": "text"
      },
      "source": [
        "Now we'll create an example programming tree manually to try this out. This tree is equivalent to:\n",
        "\n",
        "```\n",
        "def func(x,y):\n",
        "  if x>3:\n",
        "    return y + 5\n",
        "  else:\n",
        "    return y - 2\n",
        "```\n",
        "\n"
      ]
    },
    {
      "cell_type": "code",
      "metadata": {
        "id": "4vAQ3MvX3gqz",
        "colab_type": "code",
        "colab": {}
      },
      "source": [
        "class exampletree(node):\n",
        "    def __init__(self):\n",
        "        children = [node(gtw, [paramnode(0), constnode(3)]),\n",
        "                    node(addw, [paramnode(1), constnode(5)]),\n",
        "                    node(subw, [paramnode(1), constnode(2)])]\n",
        "\n",
        "        node.__init__(self, ifw, children)\n",
        "\n",
        "\n"
      ],
      "execution_count": 0,
      "outputs": []
    },
    {
      "cell_type": "code",
      "metadata": {
        "id": "NWF6uHQ53rKb",
        "colab_type": "code",
        "colab": {}
      },
      "source": [
        "exampletree = exampletree()"
      ],
      "execution_count": 0,
      "outputs": []
    },
    {
      "cell_type": "code",
      "metadata": {
        "id": "812iJMaR36d1",
        "colab_type": "code",
        "outputId": "bb093309-9381-46b4-fa9d-9285a6fb1eeb",
        "colab": {
          "base_uri": "https://localhost:8080/",
          "height": 35
        }
      },
      "source": [
        "exampletree.evaluate([2,3])"
      ],
      "execution_count": 7,
      "outputs": [
        {
          "output_type": "execute_result",
          "data": {
            "text/plain": [
              "1"
            ]
          },
          "metadata": {
            "tags": []
          },
          "execution_count": 7
        }
      ]
    },
    {
      "cell_type": "code",
      "metadata": {
        "id": "OJ_kywY03-3U",
        "colab_type": "code",
        "outputId": "a40acd6d-e26d-4f61-fa83-b1fc4c2ef495",
        "colab": {
          "base_uri": "https://localhost:8080/",
          "height": 35
        }
      },
      "source": [
        "exampletree.evaluate([5,3])"
      ],
      "execution_count": 8,
      "outputs": [
        {
          "output_type": "execute_result",
          "data": {
            "text/plain": [
              "8"
            ]
          },
          "metadata": {
            "tags": []
          },
          "execution_count": 8
        }
      ]
    },
    {
      "cell_type": "markdown",
      "metadata": {
        "id": "1nPV5u8X4vfc",
        "colab_type": "text"
      },
      "source": [
        "We can also display the tree in a (somewhat) more readable format by calling the \"display\" method"
      ]
    },
    {
      "cell_type": "code",
      "metadata": {
        "id": "M81w_N7G48Nx",
        "colab_type": "code",
        "outputId": "0e1808e7-e2d9-4b92-90d5-3f4249109943",
        "colab": {
          "base_uri": "https://localhost:8080/",
          "height": 191
        }
      },
      "source": [
        "exampletree.display()"
      ],
      "execution_count": 9,
      "outputs": [
        {
          "output_type": "stream",
          "text": [
            "if\n",
            " isgreater\n",
            "  p0\n",
            "  3\n",
            " add\n",
            "  p1\n",
            "  5\n",
            " subtract\n",
            "  p1\n",
            "  2\n"
          ],
          "name": "stdout"
        }
      ]
    },
    {
      "cell_type": "markdown",
      "metadata": {
        "id": "AXSzS-or5EsB",
        "colab_type": "text"
      },
      "source": [
        "Now let's create a way to make random code trees."
      ]
    },
    {
      "cell_type": "code",
      "metadata": {
        "id": "7BFFC8SX5IOI",
        "colab_type": "code",
        "colab": {}
      },
      "source": [
        "def makerandomtree(pc, maxdepth=4, fpr=0.5, ppr=0.6): # pc is number of parameters\n",
        "    if random() < fpr and maxdepth > 0:\n",
        "        f = choice(flist)\n",
        "        children = [makerandomtree(pc, maxdepth - 1, fpr, ppr)\n",
        "                    for i in range(f.params)]\n",
        "        return node(f, children)\n",
        "    elif random() < ppr:\n",
        "        return paramnode(randint(0, pc - 1))\n",
        "    else:\n",
        "        return constnode(randint(0, 10))\n"
      ],
      "execution_count": 0,
      "outputs": []
    },
    {
      "cell_type": "code",
      "metadata": {
        "id": "pKd3tfGh5Wkn",
        "colab_type": "code",
        "outputId": "739066ff-155b-4c94-de50-e2b8a2854f33",
        "colab": {
          "base_uri": "https://localhost:8080/",
          "height": 503
        }
      },
      "source": [
        "random1 = makerandomtree(2)\n",
        "random1.display()"
      ],
      "execution_count": 11,
      "outputs": [
        {
          "output_type": "stream",
          "text": [
            "isgreater\n",
            " add\n",
            "  multiply\n",
            "   add\n",
            "    p0\n",
            "    p0\n",
            "   p0\n",
            "  if\n",
            "   isgreater\n",
            "    p0\n",
            "    p0\n",
            "   add\n",
            "    5\n",
            "    p1\n",
            "   multiply\n",
            "    p1\n",
            "    p0\n",
            " isgreater\n",
            "  p1\n",
            "  isgreater\n",
            "   if\n",
            "    p0\n",
            "    p0\n",
            "    10\n",
            "   if\n",
            "    4\n",
            "    6\n",
            "    p1\n"
          ],
          "name": "stdout"
        }
      ]
    },
    {
      "cell_type": "code",
      "metadata": {
        "id": "bhhEb60S5jzx",
        "colab_type": "code",
        "outputId": "0c3ece1d-e5be-4d49-f86e-f1f6bd1a1fe3",
        "colab": {
          "base_uri": "https://localhost:8080/",
          "height": 35
        }
      },
      "source": [
        "random1.evaluate([5,2])"
      ],
      "execution_count": 12,
      "outputs": [
        {
          "output_type": "execute_result",
          "data": {
            "text/plain": [
              "1"
            ]
          },
          "metadata": {
            "tags": []
          },
          "execution_count": 12
        }
      ]
    },
    {
      "cell_type": "markdown",
      "metadata": {
        "id": "QL5uE_iH5wzV",
        "colab_type": "text"
      },
      "source": [
        "Now for the real experiments! We need a 'hidden function' that our genetic programming tries to figure out what it is. This function is equivalent to X^2 + 2Y + 3X + 5"
      ]
    },
    {
      "cell_type": "code",
      "metadata": {
        "id": "l277ghPV6CkH",
        "colab_type": "code",
        "colab": {}
      },
      "source": [
        "def hiddenfunction(x, y):\n",
        "    return x ** 2 + 2 * y + 3 * x + 5\n"
      ],
      "execution_count": 0,
      "outputs": []
    },
    {
      "cell_type": "markdown",
      "metadata": {
        "id": "Pxzwfisc6Sge",
        "colab_type": "text"
      },
      "source": [
        "Now create a random set of parameters and get the results. This will be the 'observations' that the genetic program will run against to determine how close it's program is to the correct one."
      ]
    },
    {
      "cell_type": "code",
      "metadata": {
        "id": "6KMSXEvW6eaL",
        "colab_type": "code",
        "colab": {}
      },
      "source": [
        "def buildhiddenset():\n",
        "    rows = []\n",
        "    for i in range(200):\n",
        "        x = randint(0, 40)\n",
        "        y = randint(0, 40)\n",
        "        rows.append([x, y, hiddenfunction(x, y)])\n",
        "    return rows\n",
        "\n"
      ],
      "execution_count": 0,
      "outputs": []
    },
    {
      "cell_type": "code",
      "metadata": {
        "id": "uBxFtljm6gm0",
        "colab_type": "code",
        "colab": {}
      },
      "source": [
        "hiddenset = buildhiddenset()"
      ],
      "execution_count": 0,
      "outputs": []
    },
    {
      "cell_type": "code",
      "metadata": {
        "id": "p2Sxl5u66m_e",
        "colab_type": "code",
        "outputId": "b4fb9608-f194-4884-e9ca-7c168d937db6",
        "colab": {
          "base_uri": "https://localhost:8080/",
          "height": 55
        }
      },
      "source": [
        "print hiddenset"
      ],
      "execution_count": 16,
      "outputs": [
        {
          "output_type": "stream",
          "text": [
            "[[3, 1, 25], [33, 16, 1225], [32, 7, 1139], [33, 7, 1207], [2, 20, 55], [4, 13, 59], [36, 39, 1487], [2, 17, 49], [7, 18, 111], [31, 7, 1073], [32, 15, 1155], [9, 25, 163], [4, 2, 37], [19, 16, 455], [5, 31, 107], [9, 13, 139], [19, 35, 493], [23, 1, 605], [8, 25, 143], [15, 29, 333], [6, 28, 115], [18, 33, 449], [8, 29, 151], [36, 0, 1409], [40, 10, 1745], [0, 4, 13], [15, 39, 353], [38, 19, 1601], [37, 2, 1489], [40, 37, 1799], [0, 25, 55], [22, 17, 589], [2, 25, 65], [18, 14, 411], [11, 25, 209], [19, 27, 477], [12, 34, 253], [36, 17, 1443], [25, 26, 757], [35, 38, 1411], [38, 10, 1583], [14, 10, 263], [40, 3, 1731], [13, 14, 241], [18, 31, 445], [11, 27, 213], [32, 15, 1155], [20, 30, 525], [11, 27, 213], [1, 33, 75], [24, 28, 709], [13, 10, 233], [26, 7, 773], [11, 22, 203], [13, 38, 289], [4, 9, 51], [4, 28, 89], [33, 19, 1231], [1, 37, 83], [4, 32, 97], [23, 29, 661], [23, 36, 675], [35, 24, 1383], [26, 15, 789], [13, 12, 237], [37, 24, 1533], [40, 19, 1763], [1, 29, 67], [7, 15, 105], [7, 8, 91], [19, 24, 471], [22, 3, 561], [12, 2, 189], [31, 38, 1135], [27, 4, 823], [10, 13, 161], [3, 10, 43], [30, 17, 1029], [10, 28, 191], [34, 3, 1269], [12, 38, 261], [38, 29, 1621], [12, 12, 209], [32, 30, 1185], [15, 23, 321], [32, 2, 1129], [7, 10, 95], [13, 5, 223], [25, 18, 741], [27, 0, 815], [0, 4, 13], [36, 8, 1425], [12, 4, 193], [28, 32, 937], [31, 29, 1117], [21, 0, 509], [7, 32, 139], [0, 37, 79], [40, 27, 1779], [14, 22, 287], [2, 1, 17], [7, 39, 153], [25, 40, 785], [11, 35, 229], [2, 39, 93], [12, 27, 239], [10, 3, 141], [24, 5, 663], [39, 30, 1703], [12, 23, 231], [12, 14, 213], [16, 5, 319], [14, 6, 255], [35, 37, 1409], [5, 26, 97], [11, 35, 229], [23, 37, 677], [3, 1, 25], [20, 16, 497], [17, 38, 421], [12, 13, 211], [37, 9, 1503], [29, 27, 987], [14, 7, 257], [17, 15, 375], [0, 36, 77], [6, 8, 75], [21, 29, 567], [23, 8, 619], [32, 16, 1157], [14, 16, 275], [11, 35, 229], [36, 29, 1467], [29, 27, 987], [27, 2, 819], [25, 28, 761], [26, 5, 769], [9, 31, 175], [6, 1, 61], [3, 28, 79], [20, 3, 471], [4, 20, 73], [33, 31, 1255], [29, 3, 939], [18, 15, 413], [8, 21, 135], [15, 34, 343], [15, 35, 345], [9, 31, 175], [11, 25, 209], [21, 18, 545], [30, 16, 1027], [28, 31, 935], [5, 8, 61], [2, 10, 35], [25, 3, 711], [24, 35, 723], [9, 6, 125], [0, 7, 19], [13, 13, 239], [7, 40, 155], [12, 25, 235], [27, 3, 821], [4, 34, 101], [9, 33, 179], [33, 3, 1199], [9, 40, 193], [14, 39, 321], [11, 17, 193], [3, 16, 55], [18, 23, 429], [38, 9, 1581], [15, 26, 327], [16, 25, 359], [29, 16, 965], [1, 28, 65], [32, 39, 1203], [40, 34, 1793], [26, 24, 807], [1, 3, 15], [17, 10, 365], [20, 21, 507], [28, 8, 889], [15, 10, 295], [39, 24, 1691], [10, 27, 189], [5, 10, 65], [15, 10, 295], [3, 23, 69], [39, 27, 1697], [35, 38, 1411], [2, 23, 61], [19, 40, 503], [13, 15, 243], [33, 0, 1193], [33, 37, 1267], [29, 19, 971], [29, 27, 987], [22, 30, 615], [26, 35, 829]]\n"
          ],
          "name": "stdout"
        }
      ]
    },
    {
      "cell_type": "markdown",
      "metadata": {
        "id": "cjsBr8wP6tBr",
        "colab_type": "text"
      },
      "source": [
        "Let's create a 'score' function that evaluates a genetic programming tree and determines how far off it's function is from the correct result."
      ]
    },
    {
      "cell_type": "code",
      "metadata": {
        "id": "yee3xqqs61J7",
        "colab_type": "code",
        "colab": {}
      },
      "source": [
        "def scorefunction(tree, dataset, penalizecomplexity=False):\n",
        "    start = datetime.datetime.now()\n",
        "    dif = 0\n",
        "    for row in dataset:\n",
        "        val = tree.evaluate([row[0], row[1]])\n",
        "        dif += abs(val - row[2])\n",
        "\n",
        "    if penalizecomplexity == False: # We'll use this code later to penalize more complext trees\n",
        "        return (dif, tree)\n",
        "    else:\n",
        "        end = datetime.datetime.now()\n",
        "        delta = end - start\n",
        "        seconds = delta.total_seconds()\n",
        "        return (dif, tree, seconds)\n"
      ],
      "execution_count": 0,
      "outputs": []
    },
    {
      "cell_type": "code",
      "metadata": {
        "id": "PXDqrHUz660a",
        "colab_type": "code",
        "outputId": "46951ba1-0233-4af1-a748-ab7693260d4a",
        "colab": {
          "base_uri": "https://localhost:8080/",
          "height": 35
        }
      },
      "source": [
        "scorefunction(random1, hiddenset)[0]"
      ],
      "execution_count": 18,
      "outputs": [
        {
          "output_type": "execute_result",
          "data": {
            "text/plain": [
              "114878"
            ]
          },
          "metadata": {
            "tags": []
          },
          "execution_count": 18
        }
      ]
    },
    {
      "cell_type": "markdown",
      "metadata": {
        "id": "BPX5atTY7xxb",
        "colab_type": "text"
      },
      "source": [
        "Now we'll create the mutate and crossover functions. Mutate takes a tree and has a chance of changing one node into a new random program. Crossover takes two trees and has a chance of grabbing a node of one tree and splicing it into the other. "
      ]
    },
    {
      "cell_type": "code",
      "metadata": {
        "id": "TBSjZApz8Bc_",
        "colab_type": "code",
        "colab": {}
      },
      "source": [
        "def mutate(t, pc, probchange=0.1):\n",
        "    if random() < probchange:\n",
        "        return makerandomtree(pc)\n",
        "    else:\n",
        "        result = deepcopy(t)\n",
        "        if hasattr(t, \"children\"):\n",
        "            result.children = [mutate(c, pc, probchange) for c in t.children]\n",
        "\n",
        "        return result\n",
        "\n",
        "\n",
        "def crossover(t1, t2, probswap=0.1, top=True):\n",
        "    # print \"t1:\", getattr(t1, \"id\", -1), \"t2:\", getattr(t2, \"id\", -1)\n",
        "    if random() < probswap and not top:\n",
        "        # print \"return t2:\", getattr(t2, \"id\", -1)\n",
        "        return deepcopy(t2)\n",
        "    else:\n",
        "        result = deepcopy(t1)\n",
        "        if hasattr(t1, 'children') and hasattr(t2, 'children') and not getattr(result, \"lock\", False):\n",
        "            result.children = [crossover(c, choice(t2.children), probswap, top=False)\n",
        "                               for c in t1.children]\n",
        "        # print \"return crossover:\", getattr(result, \"id\", -1)\n",
        "        return result\n"
      ],
      "execution_count": 0,
      "outputs": []
    },
    {
      "cell_type": "code",
      "metadata": {
        "id": "-NNAUvfP8IXf",
        "colab_type": "code",
        "outputId": "417c43e7-22a6-4f5b-abaf-06991304948d",
        "colab": {
          "base_uri": "https://localhost:8080/",
          "height": 364
        }
      },
      "source": [
        "random2 = makerandomtree(2)\n",
        "random2.display()"
      ],
      "execution_count": 24,
      "outputs": [
        {
          "output_type": "stream",
          "text": [
            "add\n",
            " subtract\n",
            "  if\n",
            "   if\n",
            "    7\n",
            "    2\n",
            "    6\n",
            "   if\n",
            "    p1\n",
            "    10\n",
            "    p1\n",
            "   4\n",
            "  isgreater\n",
            "   isgreater\n",
            "    6\n",
            "    p0\n",
            "   p0\n",
            " subtract\n",
            "  p1\n",
            "  2\n"
          ],
          "name": "stdout"
        }
      ]
    },
    {
      "cell_type": "code",
      "metadata": {
        "id": "Mw1fYI1a8Zlv",
        "colab_type": "code",
        "outputId": "16872346-847e-477b-b944-00b2c3c495e2",
        "colab": {
          "base_uri": "https://localhost:8080/",
          "height": 35
        }
      },
      "source": [
        "mutatedtree = mutate(random2, 2)\n",
        "mutatedtree.display()"
      ],
      "execution_count": 21,
      "outputs": [
        {
          "output_type": "stream",
          "text": [
            "p0\n"
          ],
          "name": "stdout"
        }
      ]
    },
    {
      "cell_type": "code",
      "metadata": {
        "id": "TV11jT0G8t3-",
        "colab_type": "code",
        "outputId": "284aa2f4-33ac-4c53-b90a-3536895691f4",
        "colab": {
          "base_uri": "https://localhost:8080/",
          "height": 589
        }
      },
      "source": [
        "crossovertree = crossover(random1, random2)\n",
        "crossovertree.display()"
      ],
      "execution_count": 25,
      "outputs": [
        {
          "output_type": "stream",
          "text": [
            "isgreater\n",
            " add\n",
            "  multiply\n",
            "   add\n",
            "    p0\n",
            "    p0\n",
            "   p0\n",
            "  if\n",
            "   isgreater\n",
            "    p0\n",
            "    p0\n",
            "   add\n",
            "    5\n",
            "    p1\n",
            "   multiply\n",
            "    p1\n",
            "    p0\n",
            " subtract\n",
            "  if\n",
            "   if\n",
            "    7\n",
            "    2\n",
            "    6\n",
            "   if\n",
            "    p1\n",
            "    10\n",
            "    p1\n",
            "   4\n",
            "  isgreater\n",
            "   isgreater\n",
            "    6\n",
            "    p0\n",
            "   p0\n"
          ],
          "name": "stdout"
        }
      ]
    },
    {
      "cell_type": "markdown",
      "metadata": {
        "id": "R2gXghHq9HIB",
        "colab_type": "text"
      },
      "source": [
        "Finally, we're going to create an evolve function that creates a set of randomtrees, then evaluates them against the hidden function. It sorts them into order of which are best, then starts to 'evolve' them via mutation and crossover.\n",
        "\n",
        "def evolve(pc, popsize, rankfunction, maxgen=500,\n",
        "         mutationrate=0.1, breedingrate=0.3, fitnesspref=0.7, probnew=0.05,\n",
        "         penalizecomplexity=False, doublemutate=True)"
      ]
    },
    {
      "cell_type": "code",
      "metadata": {
        "id": "8r0qsTFz9XiB",
        "colab_type": "code",
        "colab": {}
      },
      "source": [
        "def evolve(pc, popsize, rankfunction, maxgen=500,\n",
        "         mutationrate=0.2, breedingrate=0.1, fitnesspref=0.7, probnew=0.1,\n",
        "         detectstuck=False, mute=False):\n",
        "  # Returns a random number, tending towards lower numbers. The lower pexp\n",
        "  # is, more lower numbers you will get\n",
        "  def selectindex():\n",
        "      return int(log(random()) / log(fitnesspref))\n",
        "\n",
        "  # Create a random initial population\n",
        "  population = [makerandomtree(pc) for i in range(popsize)]\n",
        "  lastscore = None\n",
        "  stuckcounter = 0\n",
        "  for i in range(maxgen):\n",
        "      scores = rankfunction(population)\n",
        "\n",
        "      # If we get same value too often, take action\n",
        "      adj_mutate = mutationrate\n",
        "\n",
        "      if not mute:\n",
        "        print \"Generation:\", i+1, \"Best Score:\", scores[0][0]\n",
        "          \n",
        "      if scores[0][0] == 0: break\n",
        "\n",
        "      # The two best always make it\n",
        "      newpop = [scores[0][1], scores[1][1]]\n",
        "\n",
        "      # Build the next generation\n",
        "      while len(newpop) < popsize:\n",
        "          if random() > probnew:\n",
        "              newpop.append(mutate(\n",
        "                  crossover(scores[selectindex()][1],\n",
        "                            scores[selectindex()][1],\n",
        "                            probswap=breedingrate),\n",
        "                  pc, probchange=adj_mutate))\n",
        "          else:\n",
        "              # Add a random node to mix things up\n",
        "              newpop.append(makerandomtree(pc))\n",
        "\n",
        "      population = newpop\n",
        "  \n",
        "  if not mute:\n",
        "    print \"******\"\n",
        "    print \"Best Tree Found:\"\n",
        "    scores[0][1].display()\n",
        "    \n",
        "  return (scores, i+1)\n"
      ],
      "execution_count": 0,
      "outputs": []
    },
    {
      "cell_type": "markdown",
      "metadata": {
        "id": "Vb0tHTRd93AH",
        "colab_type": "text"
      },
      "source": [
        "We also need a rankfunction that scores and sorts the population of programs."
      ]
    },
    {
      "cell_type": "code",
      "metadata": {
        "id": "6p9ufirD-C95",
        "colab_type": "code",
        "colab": {}
      },
      "source": [
        "def getrankfunction(dataset):\n",
        "    def rankfunction(population):\n",
        "        scores = [scorefunction(t, dataset) for t in population]\n",
        "        scores.sort()\n",
        "\n",
        "        return scores\n",
        "\n",
        "    return rankfunction\n",
        "\n"
      ],
      "execution_count": 0,
      "outputs": []
    },
    {
      "cell_type": "markdown",
      "metadata": {
        "id": "UK99jcwI-bcO",
        "colab_type": "text"
      },
      "source": [
        "Ready to run and see if our genetic programming population can find the real hidden function. My experience is that it finds it a bit less than half the time with the default parameters."
      ]
    },
    {
      "cell_type": "code",
      "metadata": {
        "id": "zlAD8LUq-nmE",
        "colab_type": "code",
        "colab": {}
      },
      "source": [
        "rf = getrankfunction(hiddenset)"
      ],
      "execution_count": 0,
      "outputs": []
    },
    {
      "cell_type": "code",
      "metadata": {
        "id": "topXRv4R_bT3",
        "colab_type": "code",
        "outputId": "3dd8a9ea-435d-48b9-9e83-17226dd5a6b8",
        "colab": {
          "base_uri": "https://localhost:8080/",
          "height": 1612
        }
      },
      "source": [
        "results = evolve(2, 500, rf, maxgen=50, mutationrate=0.2, breedingrate=0.1, fitnesspref=0.7, probnew=0.1)"
      ],
      "execution_count": 29,
      "outputs": [
        {
          "output_type": "stream",
          "text": [
            "Generation: 1 Best Score: 20048\n",
            "Generation: 2 Best Score: 20048\n",
            "Generation: 3 Best Score: 15564\n",
            "Generation: 4 Best Score: 12728\n",
            "Generation: 5 Best Score: 5769\n",
            "Generation: 6 Best Score: 5764\n",
            "Generation: 7 Best Score: 5048\n",
            "Generation: 8 Best Score: 5048\n",
            "Generation: 9 Best Score: 5033\n",
            "Generation: 10 Best Score: 4875\n",
            "Generation: 11 Best Score: 4875\n",
            "Generation: 12 Best Score: 4875\n",
            "Generation: 13 Best Score: 4875\n",
            "Generation: 14 Best Score: 4836\n",
            "Generation: 15 Best Score: 4559\n",
            "Generation: 16 Best Score: 4559\n",
            "Generation: 17 Best Score: 4559\n",
            "Generation: 18 Best Score: 4532\n",
            "Generation: 19 Best Score: 4532\n",
            "Generation: 20 Best Score: 4532\n",
            "Generation: 21 Best Score: 4532\n",
            "Generation: 22 Best Score: 4444\n",
            "Generation: 23 Best Score: 4154\n",
            "Generation: 24 Best Score: 3945\n",
            "Generation: 25 Best Score: 3433\n",
            "Generation: 26 Best Score: 3433\n",
            "Generation: 27 Best Score: 3433\n",
            "Generation: 28 Best Score: 3433\n",
            "Generation: 29 Best Score: 3433\n",
            "Generation: 30 Best Score: 3433\n",
            "Generation: 31 Best Score: 3433\n",
            "Generation: 32 Best Score: 3433\n",
            "Generation: 33 Best Score: 3433\n",
            "Generation: 34 Best Score: 3433\n",
            "Generation: 35 Best Score: 3433\n",
            "Generation: 36 Best Score: 3433\n",
            "Generation: 37 Best Score: 3433\n",
            "Generation: 38 Best Score: 3433\n",
            "Generation: 39 Best Score: 3433\n",
            "Generation: 40 Best Score: 3433\n",
            "Generation: 41 Best Score: 3433\n",
            "Generation: 42 Best Score: 3135\n",
            "Generation: 43 Best Score: 3135\n",
            "Generation: 44 Best Score: 3135\n",
            "Generation: 45 Best Score: 3135\n",
            "Generation: 46 Best Score: 3135\n",
            "Generation: 47 Best Score: 3135\n",
            "Generation: 48 Best Score: 3135\n",
            "Generation: 49 Best Score: 3135\n",
            "Generation: 50 Best Score: 3135\n",
            "******\n",
            "Best Tree Found:\n",
            "multiply\n",
            " add\n",
            "  isgreater\n",
            "   p1\n",
            "   if\n",
            "    p0\n",
            "    p0\n",
            "    add\n",
            "     2\n",
            "     isgreater\n",
            "      isgreater\n",
            "       p0\n",
            "       p1\n",
            "      subtract\n",
            "       multiply\n",
            "        p1\n",
            "        1\n",
            "       10\n",
            "  add\n",
            "   if\n",
            "    if\n",
            "     p0\n",
            "     subtract\n",
            "      3\n",
            "      p0\n",
            "     p1\n",
            "    subtract\n",
            "     p1\n",
            "     isgreater\n",
            "      p1\n",
            "      1\n",
            "    4\n",
            "   p0\n",
            " add\n",
            "  p0\n",
            "  isgreater\n",
            "   add\n",
            "    5\n",
            "    p1\n",
            "   p0\n"
          ],
          "name": "stdout"
        }
      ]
    },
    {
      "cell_type": "markdown",
      "metadata": {
        "id": "xiLywoNPITMn",
        "colab_type": "text"
      },
      "source": [
        "At last, we're ready to start experimenting with hyper parameters to find the best ones! \n",
        "\n",
        "So the first thing we're going to try is playing with mutationrate, breedingrate, fitnesspref (preference for how bias we should grab the most fit trees to breed), and probnew (probability of creating a new random tree).\n",
        "\n",
        "To do this experiment, we need a test function that will run evolve multiple times and give us averages and standard deviations across mulitple runs. \n",
        "\n",
        "But there is so much deviation from one run to the next we really should run 1000 different times and then take the average result. But we can't wait that long, so we'll do 5 instead. \n",
        "\n",
        "Consider changing that to 50 and you'll get a fairly good feel for averages using different hyper parameters within an hour or two."
      ]
    },
    {
      "cell_type": "code",
      "metadata": {
        "id": "q8AQVqDGJRh8",
        "colab_type": "code",
        "colab": {}
      },
      "source": [
        "def getstats(rounds=50, maxgen=50, mutationrate=0.05, breedingrate=0.10, fitnesspref=0.95, probnew=0.10, penalizecomplexity=False, modularize=False, mute=False):\n",
        "    dataset = buildhiddenset()\n",
        "    rf = getrankfunction(dataset)\n",
        "    tries = []\n",
        "    for i in range(rounds):\n",
        "        if not mute:\n",
        "          print \"*******Round: \", i+1, \"*******\"\n",
        "        start = datetime.datetime.now()\n",
        "        scores, generations = evolve(2, 500, rf, maxgen=maxgen, mutationrate=mutationrate, breedingrate=breedingrate, fitnesspref=fitnesspref, probnew=probnew,  mute=mute)\n",
        "        best = scores[0][1]\n",
        "        score = scorefunction(best, dataset)\n",
        "        end = datetime.datetime.now()\n",
        "        delta = end - start\n",
        "        seconds = delta.total_seconds()\n",
        "        row = (score[0], seconds, generations, best)\n",
        "        tries.append(row)\n",
        "\n",
        "    scores = [row[0] for row in tries]\n",
        "    avg_score = sum(scores) / len(scores)\n",
        "    std_score = stddev(scores)\n",
        "\n",
        "    successes = scores.count(0)\n",
        "\n",
        "    times = [row[1] for row in tries]\n",
        "    avg_time = sum(times) / len(times)\n",
        "    std_time = stddev(times)\n",
        "\n",
        "    generations = [row[2] for row in tries]\n",
        "    avg_generations = sum(generations) / len(generations)\n",
        "    std_generations = stddev(generations)\n",
        "\n",
        "    # print \"Final Population\", getids(population)\n",
        "    print \"# of Successes:\", successes\n",
        "    print \"Average Score:\", avg_score, \"StD:\", round(std_score, 2)\n",
        "    print \"Average Time (Seconds):\", avg_time, \"StD:\", round(std_time, 2)\n",
        "    print \"Average Generations:\", avg_generations, \"StD:\", round(std_generations, 2)\n",
        "\n",
        "    return successes, avg_score, avg_time, avg_generations\n",
        "\n"
      ],
      "execution_count": 0,
      "outputs": []
    },
    {
      "cell_type": "code",
      "metadata": {
        "id": "kHc-x5vZJq49",
        "colab_type": "code",
        "outputId": "089dce75-e669-4cb7-e234-396842545ce6",
        "colab": {
          "base_uri": "https://localhost:8080/",
          "height": 104
        }
      },
      "source": [
        "getstats(rounds=5, maxgen=50, mutationrate=0.2, breedingrate=0.1, fitnesspref=0.7, probnew=0.1, mute=True)"
      ],
      "execution_count": 31,
      "outputs": [
        {
          "output_type": "stream",
          "text": [
            "# of Successes: 1\n",
            "Average Score: 2068 StD: 1820.8\n",
            "Average Time (Seconds): 93.3727078 StD: 45.73\n",
            "Average Generations: 44 StD: 12.08\n"
          ],
          "name": "stdout"
        },
        {
          "output_type": "execute_result",
          "data": {
            "text/plain": [
              "(1, 2068, 93.3727078, 44)"
            ]
          },
          "metadata": {
            "tags": []
          },
          "execution_count": 31
        }
      ]
    },
    {
      "cell_type": "markdown",
      "metadata": {
        "id": "ndgUcZ5APCef",
        "colab_type": "text"
      },
      "source": [
        "So the above is the default settings. Can we do better? Playing around with the hyper parameters, the follows was the best I could find. I think there is something to be learned from these:\n",
        "\n",
        "*   **Mutation Rate**: A very low mutation rate of 0.05 worked the best. The obvious advantage here is that it more slowly makes changes and doesn't produce garbage too fast. The downside is that we're giving up an opportunity for more variation to select from generation to generation. I think there is an added bonus of a low mutation rate: a quirk in the code shows that a higher mutation rate will tend to force the mutations to the top because it starts at the top and only keeps moving down if no mutation takes place in the parents. This suggests that a lower mutation rate allows more mutations lower into the tree. \n",
        "*   **Breeding Rate**: A slightly higher breeding rate of 0.10 seemed to work the best. This suggests that crossover is probably the main type of variation (compared to mutations)\n",
        "*   **Fitness Preference**: Fitness Preference determines the liklihood of selecting less fit trees to crossbreed with. The value should be less than 1.0. I experimented and found that the best value here is 0.95, which is fairly high. This makes good sense given the low breeding rate because it injects more variation into the population, even though it is less fit variation. This shows the importance of variation.\n",
        "*   **Probability New**: The probability of, instead of crossbreeding and mutating from existing trees in the population that we just build a new one from scratch. This is necessary to keep injecting new 'genetic material' into the population. This is another source of variation.\n",
        "\n",
        "\n",
        "\n"
      ]
    },
    {
      "cell_type": "code",
      "metadata": {
        "id": "tQaFwmVsPUap",
        "colab_type": "code",
        "outputId": "8b15dc14-e217-4af5-be9c-ce39591f1daf",
        "colab": {
          "base_uri": "https://localhost:8080/",
          "height": 104
        }
      },
      "source": [
        "getstats(rounds=5, maxgen=50, mutationrate=0.05, breedingrate=0.10, fitnesspref=0.95, probnew=0.10, mute=True)"
      ],
      "execution_count": 32,
      "outputs": [
        {
          "output_type": "stream",
          "text": [
            "# of Successes: 3\n",
            "Average Score: 1000 StD: 1369.59\n",
            "Average Time (Seconds): 111.0218906 StD: 115.76\n",
            "Average Generations: 31 StD: 18.76\n"
          ],
          "name": "stdout"
        },
        {
          "output_type": "execute_result",
          "data": {
            "text/plain": [
              "(3, 1000, 111.02189059999998, 31)"
            ]
          },
          "metadata": {
            "tags": []
          },
          "execution_count": 32
        }
      ]
    },
    {
      "cell_type": "markdown",
      "metadata": {
        "id": "V1YxtVG4R-LP",
        "colab_type": "text"
      },
      "source": [
        "Having found the best hyper parameters, I wanted to see if I could improve things by giving a penalty for more complex trees and thereby emphasize trees that gave good results, but were less complex. \n",
        "\n",
        "It's not immediately obvious how to do this. The way the code is currently written, I'd have to traverse the whole tree to calculate it's complexity. So I cheated and just kept track of how long the tree takes to run. This isn't perfect, but it should give me a rough order of trees that score the same but some run faster than others (presumably due to reduced complexity from less 'junk code')\n",
        "\n",
        "So I rewrote the evolve function and score function to track how long it takes to evaluate a tree and to order first by score and then by the length of time it took to run the tree. "
      ]
    },
    {
      "cell_type": "code",
      "metadata": {
        "id": "WBxfzU-edV_Z",
        "colab_type": "code",
        "colab": {}
      },
      "source": [
        "def getstats(rounds=50, maxgen=50, mutationrate=0.05, breedingrate=0.10, fitnesspref=0.95, probnew=0.10, penalizecomplexity=False, modularize=False, mute=False):\n",
        "    dataset = buildhiddenset()\n",
        "    rf = getrankfunction(dataset)\n",
        "    tries = []\n",
        "    for i in range(rounds):\n",
        "        if not mute:\n",
        "          print \"*******Round: \", i+1, \"*******\"\n",
        "        start = datetime.datetime.now()\n",
        "        scores, generations = evolve(2, 500, rf, maxgen=maxgen, mutationrate=mutationrate, breedingrate=breedingrate, fitnesspref=fitnesspref, probnew=probnew,  penalizecomplexity=penalizecomplexity, mute=mute)\n",
        "        best = scores[0][1]\n",
        "        score = scorefunction(best, dataset)\n",
        "        end = datetime.datetime.now()\n",
        "        delta = end - start\n",
        "        seconds = delta.total_seconds()\n",
        "        row = (score[0], seconds, generations, best)\n",
        "        tries.append(row)\n",
        "\n",
        "    scores = [row[0] for row in tries]\n",
        "    avg_score = sum(scores) / len(scores)\n",
        "    std_score = stddev(scores)\n",
        "\n",
        "    successes = scores.count(0)\n",
        "\n",
        "    times = [row[1] for row in tries]\n",
        "    avg_time = sum(times) / len(times)\n",
        "    std_time = stddev(times)\n",
        "\n",
        "    generations = [row[2] for row in tries]\n",
        "    avg_generations = sum(generations) / len(generations)\n",
        "    std_generations = stddev(generations)\n",
        "\n",
        "    # print \"Final Population\", getids(population)\n",
        "    print \"# of Successes:\", successes\n",
        "    print \"Average Score:\", avg_score, \"StD:\", round(std_score, 2)\n",
        "    print \"Average Time (Seconds):\", avg_time, \"StD:\", round(std_time, 2)\n",
        "    print \"Average Generations:\", avg_generations, \"StD:\", round(std_generations, 2)\n",
        "\n",
        "    return successes, avg_score, avg_time, avg_generations\n",
        "\n"
      ],
      "execution_count": 0,
      "outputs": []
    },
    {
      "cell_type": "code",
      "metadata": {
        "id": "Cu9-rXNhSrsa",
        "colab_type": "code",
        "colab": {}
      },
      "source": [
        "def getrankfunction(dataset):\n",
        "    def rankfunction(population, penalizecomplexity=False):\n",
        "        scores = [scorefunction(t, dataset, penalizecomplexity) for t in population]\n",
        "        if penalizecomplexity:\n",
        "            scores = sorted(scores, key=operator.itemgetter(0, 2))\n",
        "        else:\n",
        "            scores.sort()\n",
        "\n",
        "        return scores\n",
        "\n",
        "    return rankfunction\n",
        "\n",
        "\n",
        "  \n",
        "def evolve(pc, popsize, rankfunction, maxgen=500,\n",
        "         mutationrate=0.2, breedingrate=0.1, fitnesspref=0.7, probnew=0.1,\n",
        "         penalizecomplexity=False, detectstuck=False, mute=False):\n",
        "  # Returns a random number, tending towards lower numbers. The lower pexp\n",
        "  # is, more lower numbers you will get\n",
        "  def selectindex():\n",
        "      return int(log(random()) / log(fitnesspref))\n",
        "\n",
        "  # Create a random initial population\n",
        "  population = [makerandomtree(pc) for i in range(popsize)]\n",
        "  lastscore = None\n",
        "  stuckcounter = 0\n",
        "  for i in range(maxgen):\n",
        "      scores = rankfunction(population, penalizecomplexity)\n",
        "\n",
        "      # If we get same value too often, take action\n",
        "      adj_mutate = mutationrate\n",
        "      if detectstuck:\n",
        "          if scores[0][2] == lastscore:\n",
        "              stuckcounter += 1\n",
        "          else:\n",
        "              stuckcounter = 0\n",
        "\n",
        "          lastscore = scores[0][2]\n",
        "\n",
        "          if stuckcounter > 0:\n",
        "              adj_mutate = mutationrate + 2.0*(float(stuckcounter)/100.0)\n",
        "              if adj_mutate > 0.5: adj_mutate = 0.5\n",
        "\n",
        "      if not mute:\n",
        "        if penalizecomplexity:\n",
        "            print \"Generation:\", i+1, \"Best Score:\", scores[0][0], \"Time:\", scores[0][2]\n",
        "        else:\n",
        "            print \"Generation:\", i+1, \"Best Score:\", scores[0][0]\n",
        "          \n",
        "      if scores[0][0] == 0: break\n",
        "\n",
        "      # The two best always make it\n",
        "      newpop = [scores[0][1], scores[1][1]]\n",
        "\n",
        "      # Build the next generation\n",
        "      while len(newpop) < popsize:\n",
        "          if random() > probnew:\n",
        "              newpop.append(mutate(\n",
        "                  crossover(scores[selectindex()][1],\n",
        "                            scores[selectindex()][1],\n",
        "                            probswap=breedingrate),\n",
        "                  pc, probchange=adj_mutate))\n",
        "          else:\n",
        "              # Add a random node to mix things up\n",
        "              newpop.append(makerandomtree(pc))\n",
        "\n",
        "      population = newpop\n",
        "  \n",
        "  if not mute:\n",
        "    print \"******\"\n",
        "    print \"Best Tree Found:\"\n",
        "    scores[0][1].display()\n",
        "    \n",
        "  return (scores, i+1)\n"
      ],
      "execution_count": 0,
      "outputs": []
    },
    {
      "cell_type": "code",
      "metadata": {
        "id": "xmuCejqZS3Bd",
        "colab_type": "code",
        "outputId": "221faff2-b098-4cc1-e7db-13eb69f01a8c",
        "colab": {
          "base_uri": "https://localhost:8080/",
          "height": 104
        }
      },
      "source": [
        "getstats(rounds=5, maxgen=50, mutationrate=0.05, breedingrate=0.10, fitnesspref=0.95, probnew=0.10, mute=True, penalizecomplexity=True)"
      ],
      "execution_count": 47,
      "outputs": [
        {
          "output_type": "stream",
          "text": [
            "# of Successes: 0\n",
            "Average Score: 4335 StD: 2417.02\n",
            "Average Time (Seconds): 4.6220484 StD: 1.58\n",
            "Average Generations: 5 StD: 0.0\n"
          ],
          "name": "stdout"
        },
        {
          "output_type": "execute_result",
          "data": {
            "text/plain": [
              "(0, 4335, 4.6220484, 5)"
            ]
          },
          "metadata": {
            "tags": []
          },
          "execution_count": 47
        }
      ]
    },
    {
      "cell_type": "markdown",
      "metadata": {
        "id": "r7OkHqAFVFb2",
        "colab_type": "text"
      },
      "source": [
        "This change to take speed/complexity into consideration seems to improve things quite a bit. The code runs faster too, but smaller trees seem to have better fitness overall compared to other trees with seemingly equivalent scores but that run slower. "
      ]
    },
    {
      "cell_type": "markdown",
      "metadata": {
        "id": "hwhX_yi6dHj5",
        "colab_type": "text"
      },
      "source": [
        "Now for a final experiment. One problem in genetic programming is that useful code gets regularly destroyed by the crossover and mutation process. So I wondered what would happen if I 'locked' some sub-trees and let them breed into the population. This revised version of the evolve function now has a 'modularize' option that will take the best tree and copy it and 'lock' (with some probability) some of the sub-trees and then let it breed into the population. "
      ]
    },
    {
      "cell_type": "code",
      "metadata": {
        "id": "mn4FCdHAS3xX",
        "colab_type": "code",
        "colab": {}
      },
      "source": [
        "def getstats(rounds=50, maxgen=50, mutationrate=0.05, breedingrate=0.10, fitnesspref=0.95, probnew=0.10, penalizecomplexity=False, modularize=False, mute=False):\n",
        "    dataset = buildhiddenset()\n",
        "    rf = getrankfunction(dataset)\n",
        "    tries = []\n",
        "    for i in range(rounds):\n",
        "        if not mute:\n",
        "          print \"*******Round: \", i+1, \"*******\"\n",
        "        start = datetime.datetime.now()\n",
        "        scores, generations = evolve(2, 500, rf, maxgen=maxgen, mutationrate=mutationrate, breedingrate=breedingrate, fitnesspref=fitnesspref, probnew=probnew, penalizecomplexity=penalizecomplexity, modularize=modularize, mute=mute)\n",
        "        best = scores[0][1]\n",
        "        score = scorefunction(best, dataset)\n",
        "        end = datetime.datetime.now()\n",
        "        delta = end - start\n",
        "        seconds = delta.total_seconds()\n",
        "        row = (score[0], seconds, generations, best)\n",
        "        tries.append(row)\n",
        "\n",
        "    scores = [row[0] for row in tries]\n",
        "    avg_score = sum(scores) / len(scores)\n",
        "    std_score = stddev(scores)\n",
        "\n",
        "    successes = scores.count(0)\n",
        "\n",
        "    times = [row[1] for row in tries]\n",
        "    avg_time = sum(times) / len(times)\n",
        "    std_time = stddev(times)\n",
        "\n",
        "    generations = [row[2] for row in tries]\n",
        "    avg_generations = sum(generations) / len(generations)\n",
        "    std_generations = stddev(generations)\n",
        "\n",
        "    # print \"Final Population\", getids(population)\n",
        "    print \"# of Successes:\", successes\n",
        "    print \"Average Score:\", avg_score, \"StD:\", round(std_score, 2)\n",
        "    print \"Average Time (Seconds):\", avg_time, \"StD:\", round(std_time, 2)\n",
        "    print \"Average Generations:\", avg_generations, \"StD:\", round(std_generations, 2)\n",
        "\n",
        "    return successes, avg_score, avg_time, avg_generations"
      ],
      "execution_count": 0,
      "outputs": []
    },
    {
      "cell_type": "code",
      "metadata": {
        "id": "sgQ3y7qwiCVd",
        "colab_type": "code",
        "colab": {}
      },
      "source": [
        "# This is the locksubtree function that locks subtrees\n",
        "def locksubtree(t, probchange=0.05, top=True):\n",
        "    result = deepcopy(t)\n",
        "\n",
        "    if not hasattr(result, \"children\"):\n",
        "        return result\n",
        "    if result.lock:\n",
        "        return result\n",
        "    if random() < probchange and not top:\n",
        "        result.lock = True\n",
        "        return result\n",
        "    else:\n",
        "        result.children = [locksubtree(c, probchange, top=False) for c in result.children]\n",
        "        return result\n"
      ],
      "execution_count": 0,
      "outputs": []
    },
    {
      "cell_type": "code",
      "metadata": {
        "id": "X1EtdpPqdGKq",
        "colab_type": "code",
        "colab": {}
      },
      "source": [
        "def getrankfunction(dataset):\n",
        "    def rankfunction(population, penalizecomplexity=False):\n",
        "        scores = [scorefunction(t, dataset, penalizecomplexity) for t in population]\n",
        "        if penalizecomplexity:\n",
        "            scores = sorted(scores, key=operator.itemgetter(0, 2))\n",
        "        else:\n",
        "            scores.sort()\n",
        "\n",
        "        return scores\n",
        "\n",
        "    return rankfunction\n",
        "\n",
        "\n",
        "  \n",
        "def evolve(pc, popsize, rankfunction, maxgen=500,\n",
        "         mutationrate=0.2, breedingrate=0.1, fitnesspref=0.7, probnew=0.1,\n",
        "         penalizecomplexity=False, detectstuck=False, modularize=False, mute=False):\n",
        "  # Returns a random number, tending towards lower numbers. The lower pexp\n",
        "  # is, more lower numbers you will get\n",
        "  def selectindex():\n",
        "      return int(log(random()) / log(fitnesspref))\n",
        "\n",
        "  # Create a random initial population\n",
        "  population = [makerandomtree(pc) for i in range(popsize)]\n",
        "  lastscore = None\n",
        "  stuckcounter = 0\n",
        "  for i in range(maxgen):\n",
        "      scores = rankfunction(population, penalizecomplexity)\n",
        "\n",
        "      # If we get same value too often, take action\n",
        "      adj_mutate = mutationrate\n",
        "      if detectstuck:\n",
        "          if scores[0][2] == lastscore:\n",
        "              stuckcounter += 1\n",
        "          else:\n",
        "              stuckcounter = 0\n",
        "\n",
        "          lastscore = scores[0][2]\n",
        "\n",
        "          if stuckcounter > 0:\n",
        "              adj_mutate = mutationrate + 2.0*(float(stuckcounter)/100.0)\n",
        "              if adj_mutate > 0.5: adj_mutate = 0.5\n",
        "\n",
        "      if not mute:\n",
        "        if penalizecomplexity:\n",
        "            print \"Generation:\", i+1, \"Best Score:\", scores[0][0], \"Time:\", scores[0][2]\n",
        "        else:\n",
        "            print \"Generation:\", i+1, \"Best Score:\", scores[0][0]\n",
        "          \n",
        "      if scores[0][0] == 0: break\n",
        "\n",
        "      # The two best always make it\n",
        "      newpop = [scores[0][1], scores[1][1]]\n",
        "\n",
        "      if modularize:\n",
        "        # Next one is same as first one, but modularized\n",
        "        newpop.append(locksubtree(newpop[0]))\n",
        "\n",
        "      # Build the next generation\n",
        "      while len(newpop) < popsize:\n",
        "          if random() > probnew:\n",
        "              newpop.append(mutate(\n",
        "                  crossover(scores[selectindex()][1],\n",
        "                            scores[selectindex()][1],\n",
        "                            probswap=breedingrate),\n",
        "                  pc, probchange=adj_mutate))\n",
        "          else:\n",
        "              # Add a random node to mix things up\n",
        "              newpop.append(makerandomtree(pc))\n",
        "\n",
        "      population = newpop\n",
        "  \n",
        "  if not mute:\n",
        "    print \"******\"\n",
        "    print \"Best Tree Found:\"\n",
        "    scores[0][1].display()\n",
        "    \n",
        "  return (scores, i+1)\n"
      ],
      "execution_count": 0,
      "outputs": []
    },
    {
      "cell_type": "code",
      "metadata": {
        "id": "95uCAoXyiWAC",
        "colab_type": "code",
        "outputId": "847da51b-89a8-4f0c-9792-b82f71c5c780",
        "colab": {
          "base_uri": "https://localhost:8080/",
          "height": 104
        }
      },
      "source": [
        "getstats(rounds=5, maxgen=50, mutationrate=0.05, breedingrate=0.10, fitnesspref=0.95, probnew=0.10, modularize = True, mute=True, penalizecomplexity=True)"
      ],
      "execution_count": 56,
      "outputs": [
        {
          "output_type": "stream",
          "text": [
            "# of Successes: 0\n",
            "Average Score: 3427 StD: 2098.17\n",
            "Average Time (Seconds): 5.0051232 StD: 2.33\n",
            "Average Generations: 5 StD: 0.0\n"
          ],
          "name": "stdout"
        },
        {
          "output_type": "execute_result",
          "data": {
            "text/plain": [
              "(0, 3427, 5.0051232, 5)"
            ]
          },
          "metadata": {
            "tags": []
          },
          "execution_count": 56
        }
      ]
    }
  ]
}